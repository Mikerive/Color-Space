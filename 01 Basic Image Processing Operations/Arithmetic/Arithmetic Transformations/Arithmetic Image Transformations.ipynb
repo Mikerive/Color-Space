{
 "cells": [
  {
   "cell_type": "code",
   "execution_count": 3,
   "metadata": {},
   "outputs": [
    {
     "name": "stdout",
     "output_type": "stream",
     "text": [
      "Collecting opencv-python\n",
      "  Downloading opencv_python-4.7.0.68-cp37-abi3-win_amd64.whl (38.2 MB)\n",
      "Requirement already satisfied: numpy>=1.17.0; python_version >= \"3.7\" in c:\\users\\micha\\anaconda3\\lib\\site-packages (from opencv-python) (1.18.1)\n",
      "Installing collected packages: opencv-python\n",
      "Successfully installed opencv-python-4.7.0.68\n",
      "Note: you may need to restart the kernel to use updated packages.\n"
     ]
    },
    {
     "name": "stderr",
     "output_type": "stream",
     "text": [
      "Keyring is skipped due to an exception: 'keyring.backends'\n"
     ]
    }
   ],
   "source": [
    "pip install opencv-python"
   ]
  },
  {
   "cell_type": "code",
   "execution_count": 8,
   "metadata": {},
   "outputs": [
    {
     "data": {
      "text/plain": [
       "True"
      ]
     },
     "execution_count": 8,
     "metadata": {},
     "output_type": "execute_result"
    }
   ],
   "source": [
    "import numpy as np\n",
    "import cv2\n",
    "\n",
    "# Load the image using OpenCV\n",
    "image = cv2.imread('waterfall.jpg')\n",
    "\n",
    "# Convert the image to a floating point representation\n",
    "image = image.astype(np.float32)\n",
    "\n",
    "# Apply scalar addition\n",
    "result = image + 50\n",
    "\n",
    "# Clamp the values to be within the valid range for an 8-bit unsigned integer representation\n",
    "result = np.clip(result, 0, 255).astype(np.uint8)\n",
    "\n",
    "# Save the result\n",
    "cv2.imwrite('add.png', result)"
   ]
  },
  {
   "cell_type": "code",
   "execution_count": 11,
   "metadata": {},
   "outputs": [
    {
     "data": {
      "text/plain": [
       "True"
      ]
     },
     "execution_count": 11,
     "metadata": {},
     "output_type": "execute_result"
    }
   ],
   "source": [
    "# Apply scalar subtraction\n",
    "result = image - 50\n",
    "\n",
    "# Clamp the values to be within the valid range for an 8-bit unsigned integer representation\n",
    "result = np.clip(result, 0, 255).astype(np.uint8)\n",
    "\n",
    "# Save the result\n",
    "cv2.imwrite('sub.png', result)"
   ]
  },
  {
   "cell_type": "code",
   "execution_count": 19,
   "metadata": {},
   "outputs": [
    {
     "data": {
      "text/plain": [
       "True"
      ]
     },
     "execution_count": 19,
     "metadata": {},
     "output_type": "execute_result"
    }
   ],
   "source": [
    "# Apply scalar multiplication\n",
    "result = image * 2\n",
    "\n",
    "# Clamp the values to be within the valid range for an 8-bit unsigned integer representation\n",
    "result = np.clip(result, 0, 255).astype(np.uint8)\n",
    "\n",
    "# Save the result\n",
    "cv2.imwrite('mult.png', result)"
   ]
  },
  {
   "cell_type": "code",
   "execution_count": 20,
   "metadata": {},
   "outputs": [
    {
     "data": {
      "text/plain": [
       "True"
      ]
     },
     "execution_count": 20,
     "metadata": {},
     "output_type": "execute_result"
    }
   ],
   "source": [
    "# Apply scalar division\n",
    "result = image / 2\n",
    "\n",
    "# Clamp the values to be within the valid range for an 8-bit unsigned integer representation\n",
    "result = np.clip(result, 0, 255).astype(np.uint8)\n",
    "\n",
    "# Save the result\n",
    "cv2.imwrite('div.png', result)"
   ]
  },
  {
   "cell_type": "code",
   "execution_count": 27,
   "metadata": {},
   "outputs": [
    {
     "data": {
      "text/plain": [
       "True"
      ]
     },
     "execution_count": 27,
     "metadata": {},
     "output_type": "execute_result"
    }
   ],
   "source": [
    "#Logarithmic Transformation\n",
    "\n",
    "\n",
    "# Load the image using OpenCV\n",
    "image = cv2.imread('waterfall.jpg')\n",
    "\n",
    "# Convert the image to a floating point representation\n",
    "image = image.astype(np.float32) / 255.0\n",
    "\n",
    "# c controls the amount of compression or expansion applied to the image.\n",
    "# results in more compression in the brighter regions and expansion in \n",
    "# the lower ones.\n",
    "\n",
    "# Apply the logarithmic transformation\n",
    "c = 1.5\n",
    "result = c * np.log(1 + image)/np.log(10)\n",
    "\n",
    "# Shift the values back to the range [0, 255]\n",
    "result = (255 * result / np.max(result)).astype(np.uint8)\n",
    "\n",
    "# Save the result\n",
    "cv2.imwrite('log.png', result)"
   ]
  },
  {
   "cell_type": "code",
   "execution_count": 30,
   "metadata": {},
   "outputs": [
    {
     "data": {
      "text/plain": [
       "True"
      ]
     },
     "execution_count": 30,
     "metadata": {},
     "output_type": "execute_result"
    }
   ],
   "source": [
    "#Exponential Transformation\n",
    "\n",
    "# Load the image using OpenCV\n",
    "image = cv2.imread('waterfall.jpg')\n",
    "\n",
    "# Convert the image to a floating point representation\n",
    "image = image.astype(np.float32) / 255.0\n",
    "\n",
    "# Apply the exponential transformation\n",
    "c = 1.5\n",
    "result = c * np.exp(image) - 1\n",
    "\n",
    "# Shift the values back to the range [0, 255]\n",
    "result = (255 * result / np.max(result)).astype(np.uint8)\n",
    "\n",
    "# Save the result\n",
    "cv2.imwrite('exp.png', result)"
   ]
  },
  {
   "cell_type": "code",
   "execution_count": 33,
   "metadata": {},
   "outputs": [
    {
     "data": {
      "text/plain": [
       "True"
      ]
     },
     "execution_count": 33,
     "metadata": {},
     "output_type": "execute_result"
    }
   ],
   "source": [
    "#Sqrt Transformation\n",
    "\n",
    "# Load the image using OpenCV\n",
    "image = cv2.imread('waterfall.jpg')\n",
    "\n",
    "# Convert the image to a floating point representation\n",
    "image = image.astype(np.float32) / 255.0\n",
    "\n",
    "# Apply the exponential transformation\n",
    "c = 1\n",
    "result = c * np.sqrt(image)\n",
    "\n",
    "# Shift the values back to the range [0, 255]\n",
    "result = (255 * result / np.max(result)).astype(np.uint8)\n",
    "\n",
    "# Save the result\n",
    "cv2.imwrite('sqrt.png', result)"
   ]
  },
  {
   "cell_type": "code",
   "execution_count": 35,
   "metadata": {},
   "outputs": [
    {
     "data": {
      "text/plain": [
       "True"
      ]
     },
     "execution_count": 35,
     "metadata": {},
     "output_type": "execute_result"
    }
   ],
   "source": [
    "# Lets do inversion\n",
    "\n",
    "# Invert the image\n",
    "result = 1 - image\n",
    "\n",
    "# Shift the values back to the range [0, 255]\n",
    "result = (255 * result).astype(np.uint8)\n",
    "\n",
    "# Save the result\n",
    "cv2.imwrite('inversion.png', result)\n"
   ]
  },
  {
   "cell_type": "code",
   "execution_count": null,
   "metadata": {},
   "outputs": [],
   "source": []
  }
 ],
 "metadata": {
  "kernelspec": {
   "display_name": "Python 3",
   "language": "python",
   "name": "python3"
  },
  "language_info": {
   "codemirror_mode": {
    "name": "ipython",
    "version": 3
   },
   "file_extension": ".py",
   "mimetype": "text/x-python",
   "name": "python",
   "nbconvert_exporter": "python",
   "pygments_lexer": "ipython3",
   "version": "3.7.6"
  }
 },
 "nbformat": 4,
 "nbformat_minor": 4
}
