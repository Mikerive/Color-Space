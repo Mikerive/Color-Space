{
 "cells": [
  {
   "cell_type": "code",
   "execution_count": null,
   "metadata": {},
   "outputs": [],
   "source": [
    "from ImageLab import *\n",
    "import numpy as np\n",
    "from PIL import Image"
   ]
  },
  {
   "attachments": {},
   "cell_type": "markdown",
   "metadata": {},
   "source": [
    "Import the images"
   ]
  },
  {
   "cell_type": "code",
   "execution_count": null,
   "metadata": {},
   "outputs": [],
   "source": [
    "# CustomGx_img2 = Image.open(\n",
    "#     'Image/Powerline/Custom_Gx_Complex.png').convert('RGB')\n",
    "# CustomGx_img2 = np.array(CustomGx_img2)\n",
    "\n",
    "# CustomGy_img2 = Image.open(\n",
    "#     'Image/Powerline/Custom_Gy_Complex.png').convert('RGB')\n",
    "# CustomGy_img2 = np.array(CustomGy_img2)\n",
    "\n",
    "# sX = Image.open(\n",
    "#     'Image/Powerline/Custom_Gx_Simple.png').convert('RGB')\n",
    "# sX = np.array(sX)\n",
    "\n",
    "# sY = Image.open(\n",
    "#     'Image/Powerline/Custom_Gy_Simple.png').convert('RGB')\n",
    "# sY = np.array(sY)\n",
    "\n",
    "\n",
    "# Panoramic = Image.open(\n",
    "#     'Image/Panoramic_PowerLine.jpg').convert('RGB')\n",
    "# Panoramic = np.array(Panoramic)\n",
    "\n",
    "# Simple = Image.open(\n",
    "#     'Image/PowerLine_Simple.jpg').convert('RGB')\n",
    "# Simple = np.array(Simple)\n",
    "\n",
    "\n",
    "\n",
    "# FingerPrint = Image.open(\n",
    "#     'Image/Thumb_Print.png').convert('RGB')\n",
    "# FingerPrint = np.array(FingerPrint)"
   ]
  },
  {
   "attachments": {},
   "cell_type": "markdown",
   "metadata": {},
   "source": [
    "Gradient Calculation"
   ]
  },
  {
   "cell_type": "code",
   "execution_count": null,
   "metadata": {},
   "outputs": [],
   "source": [
    "# CustomGrad = EdgeDetect().gradient_mag(CustomGx_img2, CustomGy_img2)\n",
    "# CustomGrad = ColorSpace(CustomGrad).rgb_to_grayscale()\n",
    "# Gradient_Path = ImageUtil(CustomGrad).save_image_to_folder(\n",
    "#     'Image/Morphology', 'Gradient.png')"
   ]
  },
  {
   "cell_type": "code",
   "execution_count": null,
   "metadata": {},
   "outputs": [],
   "source": [
    "# SimpleGrad = EdgeDetect().gradient_mag(sX, sY)\n",
    "# SimpleGrad = ColorSpace(SimpleGrad).rgb_to_grayscale()\n",
    "# S_Path = ImageUtil(SimpleGrad).save_image_to_folder(\n",
    "#     'Image/Morphology', 'SimpleGradient.png')"
   ]
  },
  {
   "cell_type": "code",
   "execution_count": null,
   "metadata": {},
   "outputs": [],
   "source": [
    "# ImagePlotter(FingerPrint).plot_image('Thumb')\n",
    "\n",
    "ErosionKernel = np.full((9,9), 1)\n",
    "\n",
    "DilationKernel = np.full((35, 35), 1)\n",
    "\n",
    "FinishingKernel = np.full((27, 27), 1)\n",
    "\n",
    "\n",
    "# T1, T1_Path = ImageProcessor('Image/Thumb_Print.png').process(Erosion(), ErosionKernel, '9x9T1')\n",
    "# T2, T2_Path = ImageProcessor(T1_Path).process(\n",
    "#     Dilation(), DilationKernel, '18x18T2')\n",
    "# T3, T3_Path = ImageProcessor(T2_Path).process(\n",
    "#     Erosion(), FinishingKernel, '9x9T3')"
   ]
  },
  {
   "attachments": {},
   "cell_type": "markdown",
   "metadata": {},
   "source": [
    "Dilation, Erosion, and Morphological Gradient"
   ]
  },
  {
   "cell_type": "code",
   "execution_count": null,
   "metadata": {},
   "outputs": [],
   "source": [
    "# Dilation and Erosion\n",
    "\n",
    "# Kernel = np.full((3,3), 1)\n",
    "\n",
    "# p1, pP1 = ImageProcessor(\n",
    "#     'Image/Panoramic_PowerLine.jpg').process(Dilation(), Kernel, 'P1')\n",
    "# s1, sP1 = ImageProcessor(\n",
    "#     'Image/PowerLine_Simple.jpg').process(Dilation(), Kernel, 'S1')\n",
    "# p2, pP2 = ImageProcessor(\n",
    "#     'Image/Panoramic_PowerLine.jpg').process(Erosion(), Kernel, 'P2')\n",
    "# s2, sP2 = ImageProcessor(\n",
    "#     'Image/PowerLine_Simple.jpg').process(Erosion(), Kernel, 'S2')\n",
    "\n",
    "# diff1 = p1 - p2\n",
    "# ImagePlotter(diff1).plot_image('Difference')\n",
    "# diff2 = s1 - s2\n",
    "# ImagePlotter(diff2).plot_image('Difference')"
   ]
  },
  {
   "cell_type": "code",
   "execution_count": null,
   "metadata": {},
   "outputs": [],
   "source": [
    "# T1, T1_Path = ImageProcessor('Image/Thumb_Print.png').process(Erosion(), ErosionKernel, '9x9C1')\n",
    "# T2, T2_Path = ImageProcessor(T1_Path).process(\n",
    "#     Dilation(), ErosionKernel, '9x9C2')\n",
    "# T3, T3_Path = ImageProcessor(T2_Path).process(\n",
    "#     Dilation(), ErosionKernel, '9x9C3')\n",
    "# T4, T4_Path = ImageProcessor(T3_Path).process(\n",
    "#     Erosion(), ErosionKernel, '9x9C4')\n"
   ]
  },
  {
   "attachments": {},
   "cell_type": "markdown",
   "metadata": {},
   "source": [
    "Final Major Analysis - Erosion, Dilation, Black Hat, Morphological Edge on Binary and Gray-Level images."
   ]
  },
  {
   "cell_type": "code",
   "execution_count": null,
   "metadata": {},
   "outputs": [],
   "source": [
    "def diamond_kernel(n):\n",
    "    # Create a grid of coordinates\n",
    "    x, y = np.meshgrid(np.arange(n+1), np.arange(n+1))\n",
    "    # Calculate the distance from the center of the grid\n",
    "    r = np.abs(x - n/2) + np.abs(y - n/2)\n",
    "    # Create a kernel that is 1 inside the diamond and 0 outside\n",
    "    kernel = np.zeros((n+1, n+1))\n",
    "    kernel[r <= n/2] = 1\n",
    "    return kernel\n",
    "\n",
    "\n",
    "def circle_kernel(n):\n",
    "    # Create a grid of coordinates\n",
    "    x, y = np.meshgrid(np.arange(n+1), np.arange(n+1))\n",
    "    # Calculate the distance from the center of the grid\n",
    "    r = np.sqrt((x - n/2)**2 + (y - n/2)**2)\n",
    "    # Create a kernel that alternates 1's and 0's based on the distance from the center\n",
    "    kernel = np.zeros((n+1, n+1))\n",
    "    kernel[r < n/2] = 1\n",
    "    kernel = kernel.astype(int)\n",
    "    return kernel\n",
    "\n",
    "ErosionKernel = circle_kernel(8)\n",
    "\n",
    "# Fruits = Image.open(\n",
    "#     'Image/Citrus_fruits.jpg').convert('RGB')\n",
    "# Fruits = np.array(Fruits)\n",
    "\n",
    "# Panoramic = Image.open(\n",
    "#     'Image/Panoramic_PowerLine.jpg').convert('RGB')\n",
    "# Panoramic = np.array(Panoramic)\n",
    "\n",
    "# # Calculate Grayscale and Binary\n",
    "\n",
    "# PanoramicGray = ColorSpace(Panoramic).rgb_to_grayscale()\n",
    "# PanoramicBinary = Segment('Image/Panoramic_PowerLine.jpg').apply_threshold(100)\n",
    "# ImagePlotter(PanoramicGray).plot_image('GrayScale')\n",
    "# ImagePlotter(PanoramicBinary).plot_image('Binary')\n",
    "\n",
    "# print(type(PanoramicGray))\n",
    "# print(PanoramicGray.shape)\n",
    "# print(type(PanoramicBinary))\n",
    "# print(PanoramicBinary.shape)\n",
    "\n",
    "# PG_Path = ImageUtil(PanoramicGray).save_image_to_folder(\n",
    "#     'Image/Project/', 'PanoramicGrey.png')\n",
    "# PB_Path = ImageUtil(PanoramicBinary).save_image_to_folder(\n",
    "#     'Image/Project/', 'PanoramicBinary.png')\n"
   ]
  },
  {
   "attachments": {},
   "cell_type": "markdown",
   "metadata": {},
   "source": [
    "Calculation of Erosion, Dilation, and Edge Maps on Binary and Grayscale Images."
   ]
  },
  {
   "cell_type": "code",
   "execution_count": null,
   "metadata": {},
   "outputs": [],
   "source": [
    "def basicAnalysis(PB_Path, folder_name, img_name):\n",
    "\n",
    "    T1, T1_Path = ImageProcessor(PB_Path, folder_name, img_name).process(\n",
    "        Erosion(), ErosionKernel, '9x9C1')\n",
    "    T2, T2_Path = ImageProcessor(PB_Path, folder_name, img_name).process(\n",
    "        Dilation(), ErosionKernel, '9x9C2')\n",
    "\n",
    "    ImagePlotter(T1).plot_image('Eroded')\n",
    "    ImagePlotter(T2).plot_image('Dilated')\n",
    "\n",
    "    T1 = np.squeeze(T1)\n",
    "    T2 = np.squeeze(T2)\n",
    "    PanoramicBinary = np.squeeze(PanoramicBinary)\n",
    "\n",
    "    ImagePlotter(PanoramicBinary - T1).plot_image('Hole Detection')\n",
    "    ImagePlotter(T2 - T1).plot_image('Morphological Edge')\n",
    "\n",
    "    T4, T4_Path = ImageProcessor(PB_Path, folder_name, img_name).process(\n",
    "        Erosion(), ErosionKernel, '9x9C4')\n",
    "\n",
    "    T4, T4_Path = ImageProcessor(T4_Path, folder_name, img_name).process(\n",
    "        Dilation(), ErosionKernel, '9x9C4')\n",
    "\n",
    "    T5, T5_Path = ImageProcessor(PB_Path, folder_name, img_name).process(\n",
    "        Dilation(), ErosionKernel, '9x9C5')\n",
    "\n",
    "    ImagePlotter(T4).plot_image('Eroded')\n",
    "    ImagePlotter(T5).plot_image('Dilated')\n",
    "\n",
    "    T4 = np.squeeze(T4)\n",
    "    T5 = np.squeeze(T5)\n",
    "    PanoramicGray = np.squeeze(PanoramicGray)\n",
    "\n",
    "    ImagePlotter(PanoramicGray - T4).plot_image('Hole Detection')\n",
    "    ImagePlotter(T5 - T4).plot_image('Morphological Edge')"
   ]
  },
  {
   "attachments": {},
   "cell_type": "markdown",
   "metadata": {},
   "source": [
    "Kernels"
   ]
  },
  {
   "cell_type": "code",
   "execution_count": null,
   "metadata": {},
   "outputs": [],
   "source": [
    "vkernel3 = np.array([[0, 1, 1, 1, 0],\n",
    "                    [0, 1, 1, 1, 0],\n",
    "                    [0, 1, 1, 1, 0],\n",
    "                    [0, 1, 1, 1, 0],\n",
    "                    [0, 1, 1, 1, 0]])\n",
    "\n",
    "vkernel1 = np.array([[0, 0, 1, 0, 0],\n",
    "                    [0, 0, 1, 0, 0],\n",
    "                    [0, 0, 1, 0, 0],\n",
    "                    [0, 0, 1, 0, 0],\n",
    "                    [0, 0, 1, 0, 0]])\n",
    "\n",
    "hkernel3 = np.array([[0, 0, 0, 0, 0],\n",
    "                    [1, 1, 1, 1, 1],\n",
    "                    [1, 1, 1, 1, 1],\n",
    "                    [1, 1, 1, 1, 1],\n",
    "                    [0, 0, 0, 0, 0]])\n",
    "\n",
    "hkernel1 = np.array([[0, 0, 0, 0, 0],\n",
    "                    [0, 0, 0, 0, 0],\n",
    "                    [1, 1, 1, 1, 1],\n",
    "                    [0, 0, 0, 0, 0],\n",
    "                    [0, 0, 0, 0, 0]])\n",
    "\n",
    "xkernel1 = np.array([[1, 0, 0, 0, 1],\n",
    "                    [0, 1, 0, 1, 0],\n",
    "                    [0, 0, 1, 0, 0],\n",
    "                    [0, 1, 0, 1, 0],\n",
    "                    [1, 0, 0, 0, 1]])\n",
    "\n",
    "xkernel3 = np.array([[1, 1, 0, 0, 0, 1, 1],\n",
    "                    [1, 1, 1, 0, 1, 1, 1],\n",
    "                    [0, 1, 1, 1, 1, 1, 0],\n",
    "                    [0, 0, 1, 1, 1, 0, 0],\n",
    "                    [0, 1, 1, 1, 1, 1, 0],\n",
    "                    [1, 1, 1, 0, 1, 1, 1],\n",
    "                    [1, 1, 0, 0, 0, 1, 1]])\n",
    "\n",
    "tkernel1 = np.array([[0, 0, 1, 0, 0],\n",
    "                    [0, 0, 1, 0, 0],\n",
    "                    [1, 1, 1, 1, 1],\n",
    "                    [0, 0, 1, 0, 0],\n",
    "                    [0, 0, 1, 0, 0]])\n",
    "\n",
    "tkernel3 = np.array([[0, 0, 1, 1, 1, 0, 0],\n",
    "                    [0, 0, 1, 1, 1, 0, 0],\n",
    "                    [1, 1, 1, 1, 1, 1, 1],\n",
    "                    [1, 1, 1, 1, 1, 1, 1],\n",
    "                    [1, 1, 1, 1, 1, 1, 1],\n",
    "                    [0, 0, 1, 1, 1, 0, 0],\n",
    "                    [0, 0, 1, 1, 1, 0, 0]])\n"
   ]
  },
  {
   "cell_type": "code",
   "execution_count": null,
   "metadata": {},
   "outputs": [],
   "source": [
    "folder_name = 'PanoramicSegmentationGray/'\n",
    "\n",
    "inverted, inverted_path = ColorSpace('Image/Panoramic_PowerLine.jpg', folder_name).process(inversion())\n",
    "gray, inverted_path = ColorSpace(inverted_path, folder_name).process(rgb_to_grayscale())\n",
    "\n",
    "# eroded1, eroded_path1 = ImageProcessor(inverted_path, folder_name, 'vk1').process(Erosion(), vkernel1)\n",
    "# eroded2, eroded_path2 = ImageProcessor(inverted_path, folder_name, 'vk3').process(Erosion(), vkernel3)\n",
    "# eroded3, eroded_path3 = ImageProcessor(inverted_path, folder_name, 'hk1').process(Erosion(), hkernel1)\n",
    "# eroded4, eroded_path4 = ImageProcessor(inverted_path, folder_name, 'hk3').process(Erosion(), hkernel3)\n",
    "\n",
    "# dilated1, dilated_path1 = ImageProcessor(inverted_path, folder_name, 'vk1').process(Dilation(), vkernel1)\n",
    "# dilated1, dilated_path1 = ImageProcessor(inverted_path, folder_name, 'vk3').process(Dilation(), vkernel3)\n",
    "# dilated1, dilated_path1 = ImageProcessor(inverted_path, folder_name, 'hk1').process(Dilation(), hkernel1)\n",
    "# dilated1, dilated_path1 = ImageProcessor(inverted_path, folder_name, 'hk3').process(Dilation(), hkernel3)"
   ]
  },
  {
   "attachments": {},
   "cell_type": "markdown",
   "metadata": {},
   "source": [
    "Thumb Morphological Processing"
   ]
  },
  {
   "cell_type": "code",
   "execution_count": null,
   "metadata": {},
   "outputs": [],
   "source": [
    "# hkernel = np.array([[0, 0, 0, 0, 0, 0, 0, 0, 0],\n",
    "#                     [0, 0, 0, 0, 0, 0, 0, 0, 0],\n",
    "#                     [0, 0, 0, 0, 0, 0, 0, 0, 0],\n",
    "#                     [1, 1, 1, 1, 1, 1, 1, 1, 1],\n",
    "#                     [1, 1, 1, 1, 1, 1, 1, 1, 1],\n",
    "#                     [1, 1, 1, 1, 1, 1, 1, 1, 1],\n",
    "#                     [0, 0, 0, 0, 0, 0, 0, 0, 0],\n",
    "#                     [0, 0, 0, 0, 0, 0, 0, 0, 0],\n",
    "#                     [0, 0, 0, 0, 0, 0, 0, 0, 0]])\n",
    "\n",
    "# vkernel = np.array([[0, 0, 0, 1, 1, 1, 0, 0, 0],\n",
    "#                     [0, 0, 0, 1, 1, 1, 0, 0, 0],\n",
    "#                     [0, 0, 0, 1, 1, 1, 0, 0, 0],\n",
    "#                     [0, 0, 0, 1, 1, 1, 0, 0, 0],\n",
    "#                     [0, 0, 0, 1, 1, 1, 0, 0, 0],\n",
    "#                     [0, 0, 0, 1, 1, 1, 0, 0, 0],\n",
    "#                     [0, 0, 0, 1, 1, 1, 0, 0, 0],\n",
    "#                     [0, 0, 0, 1, 1, 1, 0, 0, 0],\n",
    "#                     [0, 0, 0, 1, 1, 1, 0, 0, 0]])\n",
    "\n",
    "# folder_name = 'thumb/'\n",
    "\n",
    "# hclosing, hclosing_path = ImageProcessor('Image/Thumb_Print.png', folder_name, 'hClosed').process(Erosion(), hkernel)\n",
    "# hclosing, hclosing_path = ImageProcessor(hclosing_path, folder_name, 'hClosed').process(Dilation(), hkernel)\n",
    "\n",
    "# hopening, hopening_path = ImageProcessor(hclosing_path, folder_name, 'hOpenned').process(Dilation(), hkernel)\n",
    "# hopening, hopening_path = ImageProcessor(hopening_path, folder_name, 'hOpenned').process(Erosion(), hkernel)\n",
    "\n",
    "# vclosing, vclosing_path = ImageProcessor(hopening_path, folder_name, 'vClosed').process(Erosion(), vkernel)\n",
    "# vclosing, vclosing_path = ImageProcessor(vclosing_path, folder_name, 'vClosed').process(Dilation(), vkernel)\n",
    "\n",
    "# vopening, vopening_path = ImageProcessor(vclosing_path, folder_name, 'vOpenned').process(Dilation(), vkernel)\n",
    "# vopening, vopening_path = ImageProcessor(vopening_path, folder_name, 'vOpenned').process(Erosion(), vkernel)"
   ]
  },
  {
   "cell_type": "code",
   "execution_count": 19,
   "metadata": {},
   "outputs": [
    {
     "ename": "AttributeError",
     "evalue": "'Segment' object has no attribute 'process'",
     "output_type": "error",
     "traceback": [
      "\u001b[1;31m---------------------------------------------------------------------------\u001b[0m",
      "\u001b[1;31mAttributeError\u001b[0m                            Traceback (most recent call last)",
      "\u001b[1;32m~\\AppData\\Local\\Temp\\ipykernel_13496\\307571256.py\u001b[0m in \u001b[0;36m<module>\u001b[1;34m\u001b[0m\n\u001b[1;32m----> 1\u001b[1;33m \u001b[0mbinary\u001b[0m\u001b[1;33m,\u001b[0m \u001b[0mbinay_path\u001b[0m \u001b[1;33m=\u001b[0m \u001b[0mSegment\u001b[0m\u001b[1;33m(\u001b[0m\u001b[0mvopening_path\u001b[0m\u001b[1;33m,\u001b[0m \u001b[0mfolder_name\u001b[0m\u001b[1;33m,\u001b[0m \u001b[1;34m'binary_threshold'\u001b[0m\u001b[1;33m)\u001b[0m\u001b[1;33m.\u001b[0m\u001b[0mprocess\u001b[0m\u001b[1;33m(\u001b[0m\u001b[0mAdaptive_Global\u001b[0m\u001b[1;33m(\u001b[0m\u001b[1;36m100\u001b[0m\u001b[1;33m)\u001b[0m\u001b[1;33m)\u001b[0m\u001b[1;33m\u001b[0m\u001b[1;33m\u001b[0m\u001b[0m\n\u001b[0m",
      "\u001b[1;31mAttributeError\u001b[0m: 'Segment' object has no attribute 'process'"
     ]
    }
   ],
   "source": [
    "binary, binary_path = Segment('Image/thumb/vOpenned_Erosion.png', folder_name, 'binary_threshold').process(Adaptive_Global(100))"
   ]
  },
  {
   "cell_type": "code",
   "execution_count": null,
   "metadata": {},
   "outputs": [],
   "source": []
  }
 ],
 "metadata": {
  "kernelspec": {
   "display_name": "venv",
   "language": "python",
   "name": "python3"
  },
  "language_info": {
   "codemirror_mode": {
    "name": "ipython",
    "version": 3
   },
   "file_extension": ".py",
   "mimetype": "text/x-python",
   "name": "python",
   "nbconvert_exporter": "python",
   "pygments_lexer": "ipython3",
   "version": "3.7.6"
  },
  "orig_nbformat": 4
 },
 "nbformat": 4,
 "nbformat_minor": 2
}
