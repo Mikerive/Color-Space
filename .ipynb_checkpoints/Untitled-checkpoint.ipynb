{
 "cells": [
  {
   "cell_type": "code",
   "execution_count": 4,
   "metadata": {},
   "outputs": [],
   "source": [
    "import cv2\n",
    "import numpy as np"
   ]
  },
  {
   "cell_type": "code",
   "execution_count": 5,
   "metadata": {},
   "outputs": [
    {
     "ename": "NameError",
     "evalue": "name 'image_path' is not defined",
     "output_type": "error",
     "traceback": [
      "\u001b[1;31m---------------------------------------------------------------------------\u001b[0m",
      "\u001b[1;31mNameError\u001b[0m                                 Traceback (most recent call last)",
      "\u001b[1;32m<ipython-input-5-c5ae06e1ae76>\u001b[0m in \u001b[0;36m<module>\u001b[1;34m\u001b[0m\n\u001b[0;32m      1\u001b[0m \u001b[1;31m# Load the image\u001b[0m\u001b[1;33m\u001b[0m\u001b[1;33m\u001b[0m\u001b[1;33m\u001b[0m\u001b[0m\n\u001b[1;32m----> 2\u001b[1;33m \u001b[0mimage\u001b[0m \u001b[1;33m=\u001b[0m \u001b[0mcv2\u001b[0m\u001b[1;33m.\u001b[0m\u001b[0mimread\u001b[0m\u001b[1;33m(\u001b[0m\u001b[0mimage_path\u001b[0m\u001b[1;33m)\u001b[0m\u001b[1;33m\u001b[0m\u001b[1;33m\u001b[0m\u001b[0m\n\u001b[0m",
      "\u001b[1;31mNameError\u001b[0m: name 'image_path' is not defined"
     ]
    }
   ],
   "source": [
    "# Load the image\n",
    "# By default, imported images are members of the BGR colorspace.\n",
    "image = cv2.imread(image_path)"
   ]
  },
  {
   "cell_type": "code",
   "execution_count": 6,
   "metadata": {},
   "outputs": [],
   "source": [
    "def RGB_Image_Decomposition(image):\n",
    "    \"\"\"\n",
    "    Decomposes an image into its red, green, and blue channels.\n",
    "\n",
    "    Args:\n",
    "        image (numpy.ndarray): Input image as a numpy array.\n",
    "\n",
    "    Returns:\n",
    "        tuple: A tuple of numpy arrays representing the blue, green, and red channels of the input image.\n",
    "    \"\"\"\n",
    "    # Split the input image into its blue, green, and red channels\n",
    "    b, g, r = cv2.split(image)\n",
    "    \n",
    "    # Return the blue, green, and red channels as a tuple\n",
    "    return np.array(blue), np.array(green), np.array(red)\n",
    "\n"
   ]
  },
  {
   "cell_type": "code",
   "execution_count": 7,
   "metadata": {},
   "outputs": [],
   "source": [
    "def BGR_to_HSV(image):\n",
    "    \"\"\"\n",
    "    Converts an image from the BGR color space to the HSV color space.\n",
    "\n",
    "    Args:\n",
    "        image (numpy.ndarray): Input image as a numpy array in the BGR color space.\n",
    "\n",
    "    Returns:\n",
    "        tuple: A tuple of numpy arrays representing the hue, saturation, and value channels of the image in the HSV color space.\n",
    "    \"\"\"\n",
    "    # Convert the input image from the BGR color space to the HSV color space\n",
    "    hsv_image = cv2.cvtColor(image, cv2.COLOR_BGR2HSV)\n",
    "\n",
    "    # Split the HSV image into its hue, saturation, and value channels\n",
    "    h, s, v = cv2.split(hsv_image)\n",
    "\n",
    "    # Return the hue, saturation, and value channels as a tuple of numpy arrays\n",
    "    return np.array(h), np.array(s), np.array(v)\n"
   ]
  },
  {
   "cell_type": "code",
   "execution_count": null,
   "metadata": {},
   "outputs": [],
   "source": [
    "def gaussian_noise(img, magnitude):\n",
    "    \"\"\"\n",
    "    Takes an image and returns a numpy array with Gaussian noise.\n",
    "\n",
    "    Args:\n",
    "        img (numpy.ndarray): Input image as a numpy array.\n",
    "        magnitude (float): Magnitude of the Gaussian noise.\n",
    "\n",
    "    Returns:\n",
    "        numpy.ndarray: Array of Gaussian noise with the same dimensions as the input image.\n",
    "    \"\"\"\n",
    "    # Get the width and height of the image\n",
    "    height, width = img.shape[:2]\n",
    "\n",
    "    # Create a 2D numpy array of random numbers between 0 and 2, \n",
    "    # subtract by 1, and multiply by magnitude\n",
    "    # The resulting array will have values between -magnitude and +magnitude\n",
    "    noise = (np.random.rand(width, height) * 2 - 1) * magnitude\n",
    "\n",
    "    # Return the array of Gaussian noise\n",
    "    return noise\n"
   ]
  },
  {
   "cell_type": "code",
   "execution_count": null,
   "metadata": {},
   "outputs": [],
   "source": [
    "def bgr_to_gray(image):\n",
    "    \"\"\"\n",
    "    Converts a BGR image to grayscale.\n",
    "\n",
    "    Args:\n",
    "        image (numpy.ndarray): Input image as a numpy array.\n",
    "\n",
    "    Returns:\n",
    "        numpy.ndarray: Grayscale image as a numpy array.\n",
    "    \"\"\"\n",
    "    gray_image = cv2.cvtColor(image, cv2.COLOR_BGR2GRAY)\n",
    "    return gray_image\n"
   ]
  }
 ],
 "metadata": {
  "kernelspec": {
   "display_name": "Python 3",
   "language": "python",
   "name": "python3"
  },
  "language_info": {
   "codemirror_mode": {
    "name": "ipython",
    "version": 3
   },
   "file_extension": ".py",
   "mimetype": "text/x-python",
   "name": "python",
   "nbconvert_exporter": "python",
   "pygments_lexer": "ipython3",
   "version": "3.7.6"
  }
 },
 "nbformat": 4,
 "nbformat_minor": 4
}
