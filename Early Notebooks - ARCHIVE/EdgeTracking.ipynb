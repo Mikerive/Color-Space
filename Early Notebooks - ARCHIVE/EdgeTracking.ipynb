{
 "cells": [
  {
   "cell_type": "code",
   "execution_count": null,
   "metadata": {},
   "outputs": [],
   "source": [
    "from ImageLab import *\n",
    "import numpy as np\n",
    "from PIL import Image\n",
    "import cv2"
   ]
  },
  {
   "cell_type": "code",
   "execution_count": null,
   "metadata": {},
   "outputs": [],
   "source": [
    "CustomGx_img2 = Image.open(\n",
    "    'Image/Powerline/Custom_Gx_Simple.png').convert('RGB')\n",
    "CustomGx_img2 = np.array(CustomGx_img2)\n",
    "\n",
    "CustomGy_img2 = Image.open(\n",
    "    'Image/Powerline/Custom_Gy_Simple.png').convert('RGB')\n",
    "CustomGy_img2 = np.array(CustomGy_img2)\n",
    "\n",
    "Robert_Gx_img2 = Image.open(\n",
    "    'Image/Powerline/Robert_Gx_Simple.png').convert('RGB')\n",
    "Robert_Gx_img2 = np.array(Robert_Gx_img2)\n",
    "\n",
    "Robert_Gy_img2 = Image.open(\n",
    "    'Image/Powerline/Robert_Gy_Simple.png').convert('RGB')\n",
    "Robert_Gy_img2 = np.array(Robert_Gy_img2)\n",
    "\n",
    "CustomGradient = EdgeDetect().gradient_mag(CustomGx_img2, CustomGy_img2)\n",
    "#ImagePlotter(CustomGradient).plot_image('Custom_Gradient')\n",
    "\n",
    "RobertGradient = EdgeDetect().gradient_mag(Robert_Gx_img2, Robert_Gy_img2)\n",
    "#ImagePlotter(RobertGradient).plot_image('Roberts_Gradient')\n",
    "\n",
    "# Eq_CustomGradient = Filters(CustomGradient).histogram_equalization()\n",
    "# ImagePlotter(Eq_CustomGradient).plot_image('Eq_Custom_Gradient')\n",
    "\n",
    "# Eq_CustomGradient = Filters(CustomGradient).gamma_correction(3)\n",
    "# ImagePlotter(Eq_CustomGradient).plot_image('Gamma_Custom_Gradient')\n"
   ]
  },
  {
   "cell_type": "code",
   "execution_count": null,
   "metadata": {},
   "outputs": [],
   "source": [
    "\n",
    "CustomGradient_Simple, _ = Segment(\n",
    "    CustomGradient).global_multiple_threshold((0, 80))\n",
    "\n",
    "\n",
    "def expand_dims(img):\n",
    "    if np.array(img).ndim == 2:\n",
    "        return np.expand_dims(img, axis=2)\n",
    "\n",
    "\n",
    "gray = ColorSpace(CustomGradient_Simple).rgb_to_grayscale()\n",
    "gray = expand_dims(gray)\n",
    "print(gray.shape)\n",
    "\n",
    "gray = np.uint8(gray)\n",
    "Simple_Canny = cv2.Canny(gray, 50, 150, apertureSize=3)\n",
    "ImagePlotter(Simple_Canny).plot_image('Simple_Canny')\n"
   ]
  },
  {
   "cell_type": "code",
   "execution_count": null,
   "metadata": {},
   "outputs": [],
   "source": [
    "lines = cv2.HoughLines(Simple_Canny, 1, np.pi * 2 / 180, 160)\n",
    "print(lines.shape)\n",
    "\n",
    "\n",
    "def DrawLines(img, lines):\n",
    "    # Draw the detected lines on the original image\n",
    "    img = np.copy(img)\n",
    "    for line in lines:\n",
    "        rho, theta = line[0]\n",
    "        a = np.cos(theta)\n",
    "        b = np.sin(theta)\n",
    "        x0 = a * rho\n",
    "        y0 = b * rho\n",
    "        x1 = int(x0 + 1000 * (-b))\n",
    "        y1 = int(y0 + 1000 * a)\n",
    "        x2 = int(x0 - 1000 * (-b))\n",
    "        y2 = int(y0 - 1000 * a)\n",
    "        cv2.line(img, (x1, y1), (x2, y2), (255, 255, 255), thickness=2)\n",
    "\n",
    "    return img\n",
    "\n",
    "\n",
    "img = DrawLines(Simple_Canny, lines)\n",
    "ImagePlotter(img).plot_image('Simple_Canny_with_Lines')\n"
   ]
  },
  {
   "cell_type": "code",
   "execution_count": null,
   "metadata": {},
   "outputs": [],
   "source": [
    "def get_lines_coordinates(img, hough_lines):\n",
    "    lines = []\n",
    "\n",
    "    base_x, base_y = 0, img.shape[0] - 1\n",
    "\n",
    "    for line in hough_lines:\n",
    "        rho, theta = line[0]\n",
    "        a = np.cos(theta)\n",
    "        b = np.sin(theta)\n",
    "\n",
    "        # Calculate new x and y values relative to the base point\n",
    "        x1 = int(a * -rho) + base_x\n",
    "        y1 = int(b * rho) + base_y\n",
    "        x2 = int(a * (-rho + img.shape[1])) + base_x\n",
    "        y2 = int(b * (rho - img.shape[1])) + base_y\n",
    "\n",
    "        lines.append([(x1, y1), (x2, y2)])\n",
    "\n",
    "    return lines\n",
    "\n",
    "\n",
    "def DrawCoords(img, hough_lines):\n",
    "\n",
    "    img = np.copy(img)\n",
    "    lines = get_lines_coordinates(img, hough_lines)\n",
    "\n",
    "    # Loop through coordinate list and plot onto the image\n",
    "    for line in lines:\n",
    "        cv2.circle(img, tuple(line[0]), 10, (0, 0, 255), -1)\n",
    "        cv2.circle(img, tuple(line[1]), 10, (0, 0, 255), -1)\n",
    "        print(line)\n",
    "\n",
    "    return img\n"
   ]
  },
  {
   "cell_type": "code",
   "execution_count": null,
   "metadata": {},
   "outputs": [],
   "source": [
    "img = DrawCoords(Simple_Canny, lines)\n",
    "ImagePlotter(img).plot_image('Simple_Canny_with_Lines')"
   ]
  },
  {
   "cell_type": "code",
   "execution_count": null,
   "metadata": {},
   "outputs": [],
   "source": [
    "Tilation(img).split_image_nxn_sections(30)"
   ]
  }
 ],
 "metadata": {
  "kernelspec": {
   "display_name": "venv",
   "language": "python",
   "name": "python3"
  },
  "language_info": {
   "codemirror_mode": {
    "name": "ipython",
    "version": 3
   },
   "file_extension": ".py",
   "mimetype": "text/x-python",
   "name": "python",
   "nbconvert_exporter": "python",
   "pygments_lexer": "ipython3",
   "version": "3.7.6"
  },
  "orig_nbformat": 4
 },
 "nbformat": 4,
 "nbformat_minor": 2
}
