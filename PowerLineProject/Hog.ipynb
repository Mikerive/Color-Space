{
 "cells": [
  {
   "cell_type": "code",
   "execution_count": 1,
   "metadata": {},
   "outputs": [],
   "source": [
    "import sys, os\n",
    "sys.path.append(os.path.abspath('..'))\n",
    "\n",
    "from ImageLab import *\n",
    "\n",
    "import numpy as np\n",
    "from skimage.feature import hog\n",
    "from PIL import Image\n",
    "from PIL import ImageOps"
   ]
  },
  {
   "cell_type": "code",
   "execution_count": 2,
   "metadata": {},
   "outputs": [],
   "source": [
    "kernel = np.array([[0, 1, 0],\n",
    "                  [1, 1, 1],\n",
    "                  [0, 1, 0]])\n",
    "\n",
    "tkernel1 = np.array([[0, 0, 1, 0, 0],\n",
    "                    [0, 0, 1, 0, 0],\n",
    "                    [1, 1, 1, 1, 1],\n",
    "                    [0, 0, 1, 0, 0],\n",
    "                    [0, 0, 1, 0, 0]])\n",
    "\n",
    "xkernel3 = np.array([[1, 1, 0, 0, 0, 1, 1],\n",
    "                    [1, 1, 1, 0, 1, 1, 1],\n",
    "                    [0, 1, 1, 1, 1, 1, 0],\n",
    "                    [0, 0, 1, 1, 1, 0, 0],\n",
    "                    [0, 1, 1, 1, 1, 1, 0],\n",
    "                    [1, 1, 1, 0, 1, 1, 1],\n",
    "                    [1, 1, 0, 0, 0, 1, 1]])\n",
    "\n",
    "\n",
    "def pipeline(img_path):\n",
    "    \n",
    "    gray = Image.open(img_path).convert('L')\n",
    "    # gray = ImageOps.equalize(gray)\n",
    "    gray = ImageOps.autocontrast(gray)\n",
    "    \n",
    "    gray = np.array(gray)\n",
    "    inverted = ImageColorSpace(gray, plot=False).process(inversion())\n",
    "    # stretched = ImageFilters(inverted, plot=False).process(contrast_stretch())\n",
    "    gamma = ImageFilters(inverted, plot=False).process(gamma_correction(3))\n",
    "    # equalization = ImageFilters(stretched, plot=True).process(histogram_equalization())\n",
    "    \n",
    "    dilated = ImageProcessor(inverted).process(Dilation(), xkernel3)\n",
    "    closed = ImageProcessor(dilated).process(Erosion(), xkernel3)\n",
    "    \n",
    "    sauvola = ImageSegment(inverted, plot=True).process(Pixel_Filter(3, 50, 'Sauvola'))\n",
    "    \n",
    "    seggrey = inverted * sauvola\n",
    "\n",
    "    seggrey = np.squeeze(seggrey)\n",
    "    return seggrey\n",
    "\n",
    "def seg_pipeline(img_path):\n",
    "    gray = Image.open(img_path).convert('L')\n",
    "    # gray = ImageOps.equalize(gray)\n",
    "    gray = ImageOps.autocontrast(gray)\n",
    "    \n",
    "    gray = np.array(gray)\n",
    "    inverted = ImageColorSpace(gray, plot=False).process(inversion())\n",
    "    # stretched = ImageFilters(inverted, plot=False).process(contrast_stretch())\n",
    "    gamma = ImageFilters(inverted, plot=False).process(gamma_correction(3))\n",
    "    # equalization = ImageFilters(stretched, plot=True).process(histogram_equalization())\n",
    "    \n",
    "    dilated = ImageProcessor(inverted).process(Dilation(), kernel)\n",
    "    closed = ImageProcessor(dilated).process(Erosion(), kernel)\n",
    "    \n",
    "    sauvola = ImageSegment(inverted, plot=True).process(Pixel_Filter(3, 50, 'Sauvola'))\n",
    "    return sauvola"
   ]
  },
  {
   "cell_type": "code",
   "execution_count": 3,
   "metadata": {},
   "outputs": [],
   "source": [
    "# segimage = pipeline('test_images/T12.jpg')"
   ]
  },
  {
   "cell_type": "code",
   "execution_count": 4,
   "metadata": {},
   "outputs": [],
   "source": [
    "# subimage = ImageFilters(segimage, plot=True).process(subimage(300, 360, 250, 300))\n",
    "# ImageUtil(subimage).save_image_to_folder('reference', '4.png')"
   ]
  },
  {
   "cell_type": "code",
   "execution_count": 5,
   "metadata": {},
   "outputs": [
    {
     "name": "stderr",
     "output_type": "stream",
     "text": [
      "c:\\Programs\\Image Processing\\Color Space\\ImageLab\\filters.py:189: RuntimeWarning: invalid value encountered in true_divide\n",
      "  return 0.5 * np.sum((hist1 - hist2) ** 2 / (hist1 + hist2))\n"
     ]
    }
   ],
   "source": [
    "import os\n",
    "\n",
    "# set the path to your test images folder\n",
    "target_folder = 'test_images'\n",
    "ref_folder = 'reference'\n",
    "output_folder = 'detection_images'\n",
    "\n",
    "chi_difference = 5\n",
    "\n",
    "# loop through each image file in the folder\n",
    "for file_name in os.listdir(target_folder):\n",
    "    # check if the file is an image file\n",
    "    if file_name.endswith('.jpg') or file_name.endswith('.png'):\n",
    "        \n",
    "        img_path = os.path.join(target_folder, file_name)\n",
    "        file_name = os.path.splitext(file_name)[0]\n",
    "        \n",
    "        segimg = pipeline(img_path)\n",
    "        _=ImageUtil(segimg).save_image_to_folder('Morphological6', f'{file_name}.png')\n",
    "        \n",
    "        for test_name in os.listdir(ref_folder):\n",
    "            if test_name.endswith('.jpg') or test_name.endswith('.png'):\n",
    "                ref_img = ImageUtil().load_image(ref_folder, test_name)\n",
    "                test_name = os.path.splitext(test_name)[0]\n",
    "                detection_image = ImageFilters(segimg).process(HOG_Parallel(ref_img, cell_size=(5,5), block_size=(1, 1)))\n",
    "                ImageUtil(detection_image).save_image_to_folder(output_folder, f'{file_name}_{test_name}.png')\n",
    "                \n",
    "        \n",
    "    "
   ]
  },
  {
   "cell_type": "code",
   "execution_count": null,
   "metadata": {},
   "outputs": [],
   "source": []
  },
  {
   "cell_type": "code",
   "execution_count": null,
   "metadata": {},
   "outputs": [],
   "source": []
  }
 ],
 "metadata": {
  "kernelspec": {
   "display_name": "venv",
   "language": "python",
   "name": "python3"
  },
  "language_info": {
   "codemirror_mode": {
    "name": "ipython",
    "version": 3
   },
   "file_extension": ".py",
   "mimetype": "text/x-python",
   "name": "python",
   "nbconvert_exporter": "python",
   "pygments_lexer": "ipython3",
   "version": "3.7.6"
  },
  "orig_nbformat": 4
 },
 "nbformat": 4,
 "nbformat_minor": 2
}
