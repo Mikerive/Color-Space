{
 "cells": [
  {
   "cell_type": "code",
   "execution_count": 92,
   "metadata": {},
   "outputs": [],
   "source": [
    "import sys, os\n",
    "sys.path.append(os.path.abspath('..'))\n",
    "import numpy as np\n",
    "from ImageLab import *\n",
    "import cv2\n",
    "from PIL import Image"
   ]
  },
  {
   "attachments": {},
   "cell_type": "markdown",
   "metadata": {},
   "source": [
    "The two points in each cluster that have the max distance between them are the points that define the extreme lines in the curve."
   ]
  },
  {
   "cell_type": "code",
   "execution_count": 93,
   "metadata": {},
   "outputs": [
    {
     "name": "stdout",
     "output_type": "stream",
     "text": [
      "((1, 2), (9, 10))\n"
     ]
    }
   ],
   "source": [
    "\n",
    "# Assuming the points are given as a list of tuples\n",
    "def left_right(points):\n",
    "  # Initialize the leftmost and rightmost points\n",
    "  left = points[0]\n",
    "  right = points[0]\n",
    "  # Loop through all points\n",
    "  for point in points:\n",
    "    # Compare the x-coordinates of the points\n",
    "    if point[0] < left[0]:\n",
    "      # Update the leftmost point\n",
    "      left = point\n",
    "    elif point[0] > right[0]:\n",
    "      # Update the rightmost point\n",
    "      right = point\n",
    "  # Return the leftmost and rightmost points\n",
    "  return (left, right)\n",
    "\n",
    "# Example\n",
    "points = [(1, 2), (3, 4), (5, 6), (7, 8), (9, 10)]\n",
    "print(left_right(points))\n",
    "# Output: ((1, 2), (9, 10))"
   ]
  },
  {
   "attachments": {},
   "cell_type": "markdown",
   "metadata": {},
   "source": [
    "Clustering Algorithm"
   ]
  },
  {
   "cell_type": "code",
   "execution_count": 94,
   "metadata": {},
   "outputs": [],
   "source": [
    "# Import the necessary libraries\n",
    "import numpy as np\n",
    "import matplotlib.pyplot as plt\n",
    "from sklearn.cluster import DBSCAN\n",
    "\n",
    "# Define a function that takes a list of points and returns the labels and the number of clusters\n",
    "def dbscan_cluster(points):\n",
    "  # Convert the points to a numpy array\n",
    "  points = np.squeeze(np.array(points))\n",
    "  # Create a dbscan object with some parameters\n",
    "  dbscan = DBSCAN(eps=0.5, min_samples=5)\n",
    "  # Fit the dbscan object to the points and get the labels\n",
    "  labels = dbscan.fit_predict(points)\n",
    "  # Create an empty dictionary to store the lists of points\n",
    "  clusters = {}\n",
    "\n",
    "  # Iterate over the unique labels\n",
    "  for label in np.unique(labels):\n",
    "\n",
    "      # Filter the points that belong to the current label\n",
    "      points = points[labels == label]\n",
    "\n",
    "      # Convert the points to a list of tuples\n",
    "      points = [tuple(p) for p in points]\n",
    "\n",
    "      # Store the list of points in the dictionary with the label as the key\n",
    "      clusters[label] = points\n",
    "  return clusters\n",
    "\n",
    "\n",
    "# The output of this code is:\n",
    "\n",
    "# {-1: [(25, 80)], 0: [(1, 2), (2, 2), (2, 3)], 1: [(8, 7), (8, 8)]}\n",
    "# As you can see, the dictionary contains three keys: -1 for the outlier, 0 and 1 for the two clusters. The values are the lists of points that belong to each cluster."
   ]
  },
  {
   "attachments": {},
   "cell_type": "markdown",
   "metadata": {},
   "source": [
    "This function applies the necessary hough operations on the segmented image."
   ]
  },
  {
   "cell_type": "code",
   "execution_count": 95,
   "metadata": {},
   "outputs": [],
   "source": [
    "import numpy as np\n",
    "import math\n",
    "\n",
    "def hough_lines(image, threshold, folder, name):\n",
    "  # image is a binary array with 0s indicating non-edges and 1s indicating edges\n",
    "  # returns a list of tuples (rho, theta) representing lines in polar space\n",
    "  \n",
    "  # get the dimensions of the image\n",
    "  height, width = image.shape\n",
    "  \n",
    "  # get the maximum possible distance from the origin to any point in the image\n",
    "  max_dist = int(math.sqrt(height**2 + width**2))\n",
    "  \n",
    "  # create an array of theta values from -90 to 90 degrees\n",
    "  theta = np.deg2rad(np.arange(-90, 90))\n",
    "  \n",
    "  # create an empty accumulator array with dimensions (rho, theta)\n",
    "  accumulator = np.zeros((2 * max_dist, len(theta)))\n",
    "\n",
    "  # loop through each pixel in the image\n",
    "  for x in range(width):\n",
    "    for y in range(height):\n",
    "      # if the pixel is an edge point\n",
    "      if image[y, x] > 0:\n",
    "        # calculate the rho values for each theta value\n",
    "        rhos = x * np.cos(theta) + y * np.sin(theta)\n",
    "        # round the rho values to the nearest integer\n",
    "        rhos = np.round(rhos).astype(int)\n",
    "        for i in range(len(rhos)):\n",
    "          # increment the corresponding cell in the accumulator array\n",
    "          accumulator[int(rhos[i] + max_dist), int(np.rad2deg(theta[i])) + 90] += 1\n",
    "  \n",
    "  \n",
    "  stretched_houghs = ImageFilters(accumulator).process(contrast_stretch())\n",
    "  \n",
    "  _=ImageUtil(stretched_houghs).save_image_to_folder('accumulator', name)\n",
    "    \n",
    "  segmented_houghs = ImageSegment(stretched_houghs).process(Global_Threshold(threshold))\n",
    "  segmented = segmented_houghs * stretched_houghs\n",
    "  \n",
    "  _=ImageUtil(segmented).save_image_to_folder('segmented', name)\n",
    "  \n",
    "  return segmented"
   ]
  },
  {
   "attachments": {},
   "cell_type": "markdown",
   "metadata": {},
   "source": [
    "Function Pipeline for detection"
   ]
  },
  {
   "cell_type": "code",
   "execution_count": 96,
   "metadata": {},
   "outputs": [],
   "source": [
    "kernel = np.array([[0, 1, 0],\n",
    "                  [1, 1, 1],\n",
    "                  [0, 1, 0]])\n",
    "\n",
    "\n",
    "def pipeline(img_path, folder, name):\n",
    "    \n",
    "    image = Image.open(img_path).convert('L')\n",
    "    image = np.array(image)\n",
    "\n",
    "    dilated = ImageProcessor(image).process(Dilation(), kernel)\n",
    "    closed = ImageProcessor(dilated).process(Erosion(), kernel)\n",
    "    sauvola = ImageSegment(closed).process(Pixel_Filter(3, 50, 'Sauvola'))\n",
    "\n",
    "    seggrey = sauvola * closed\n",
    "    seggrey = np.squeeze(seggrey)\n",
    "    \n",
    "    hough_accumulator = hough_lines(seggrey, 120, folder, name)\n",
    "    \n",
    "    labels, clusters = dbscan_cluster(hough_accumulator)\n",
    "\n",
    "    return seggrey"
   ]
  },
  {
   "cell_type": "code",
   "execution_count": 97,
   "metadata": {},
   "outputs": [],
   "source": [
    "# set the path to your test images folder\n",
    "target_folder = 'test_images'\n",
    "output_folder = 'detection_images'\n",
    "\n",
    "chi_difference = 1\n",
    "\n",
    "# loop through each image file in the folder\n",
    "for file_name in os.listdir(target_folder):\n",
    "    # check if the file is an image file\n",
    "    if file_name.endswith('.jpg') or file_name.endswith('.png'):\n",
    "        \n",
    "        img_path = os.path.join(target_folder, file_name)\n",
    "        file_name = os.path.splitext(file_name)[0]\n",
    "        \n",
    "        segimg = pipeline(img_path, 'Segmented', f'{file_name}.png')\n",
    "                "
   ]
  },
  {
   "cell_type": "code",
   "execution_count": null,
   "metadata": {},
   "outputs": [],
   "source": []
  },
  {
   "cell_type": "code",
   "execution_count": null,
   "metadata": {},
   "outputs": [],
   "source": []
  },
  {
   "cell_type": "code",
   "execution_count": null,
   "metadata": {},
   "outputs": [],
   "source": []
  }
 ],
 "metadata": {
  "kernelspec": {
   "display_name": "venv",
   "language": "python",
   "name": "python3"
  },
  "language_info": {
   "codemirror_mode": {
    "name": "ipython",
    "version": 3
   },
   "file_extension": ".py",
   "mimetype": "text/x-python",
   "name": "python",
   "nbconvert_exporter": "python",
   "pygments_lexer": "ipython3",
   "version": "3.7.6"
  },
  "orig_nbformat": 4
 },
 "nbformat": 4,
 "nbformat_minor": 2
}
