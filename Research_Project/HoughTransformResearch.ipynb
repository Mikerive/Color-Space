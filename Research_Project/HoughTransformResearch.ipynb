{
 "cells": [
  {
   "cell_type": "code",
   "execution_count": 50,
   "metadata": {},
   "outputs": [],
   "source": [
    "import sys, os\n",
    "sys.path.append(os.path.abspath('..'))\n",
    "import numpy as np\n",
    "from ImageLab import *\n",
    "import cv2\n",
    "from PIL import Image"
   ]
  },
  {
   "attachments": {},
   "cell_type": "markdown",
   "metadata": {},
   "source": [
    "Create a function that converts an image to hough's space."
   ]
  },
  {
   "cell_type": "code",
   "execution_count": 51,
   "metadata": {},
   "outputs": [],
   "source": [
    "def Hough_Space(image):\n",
    "    image = image.astype(np.float32)\n",
    "    \n",
    "    # Define the Hough space\n",
    "    theta = np.linspace(-np.pi / 2, np.pi / 2, 180)\n",
    "    width, height = image.shape[:2]\n",
    "    diag_len = np.sqrt(width * width + height * height)\n",
    "    diag_len = int(diag_len)\n",
    "    rho = np.linspace(-diag_len, diag_len, diag_len * 2)\n",
    "\n",
    "    # Compute the Hough space\n",
    "    hough_space = np.zeros((len(rho), len(theta)))\n",
    "    for x in range(width):\n",
    "        for y in range(height):\n",
    "            if image[x][y] != 0:\n",
    "                for t_idx in range(len(theta)):\n",
    "                    t = theta[t_idx]\n",
    "                    r = x * np.cos(t) + y * np.sin(t)\n",
    "                    r_idx = np.argmin(np.abs(rho - r))\n",
    "                    hough_space[r_idx][t_idx] += 1\n",
    "\n",
    "    return hough_space"
   ]
  },
  {
   "cell_type": "code",
   "execution_count": 52,
   "metadata": {},
   "outputs": [],
   "source": [
    "# Import the necessary libraries\n",
    "import numpy as np\n",
    "import matplotlib.pyplot as plt\n",
    "from sklearn.cluster import DBSCAN\n",
    "\n",
    "# Define a function that takes a list of points and returns the labels and the number of clusters\n",
    "def dbscan_cluster(points):\n",
    "  # Convert the points to a numpy array\n",
    "  points = np.array(points)\n",
    "  # Create a dbscan object with some parameters\n",
    "  dbscan = DBSCAN(eps=0.5, min_samples=5)\n",
    "  # Fit the dbscan object to the points and get the labels\n",
    "  labels = dbscan.fit_predict(points)\n",
    "  # Get the number of clusters (excluding noise)\n",
    "  n_clusters = len(set(labels)) - (1 if -1 in labels else 0)\n",
    "  # Return the labels and the number of clusters\n",
    "  return labels, n_clusters\n"
   ]
  },
  {
   "attachments": {},
   "cell_type": "markdown",
   "metadata": {},
   "source": [
    "Create a function to convert houghs points back to normal space."
   ]
  },
  {
   "cell_type": "code",
   "execution_count": 65,
   "metadata": {},
   "outputs": [],
   "source": [
    "import numpy as np\n",
    "import math\n",
    "\n",
    "def hough_lines(image, threshold, folder, name):\n",
    "  # image is a binary array with 0s indicating non-edges and 1s indicating edges\n",
    "  # returns a list of tuples (rho, theta) representing lines in polar space\n",
    "  \n",
    "  # get the dimensions of the image\n",
    "  height, width = image.shape\n",
    "  \n",
    "  # get the maximum possible distance from the origin to any point in the image\n",
    "  max_dist = int(math.sqrt(height**2 + width**2))\n",
    "  \n",
    "  # create an array of theta values from -90 to 90 degrees\n",
    "  theta = np.deg2rad(np.arange(-90, 90))\n",
    "  \n",
    "  # create an array of rho values from -max_dist to max_dist\n",
    "  rho = np.linspace(-max_dist, max_dist, 2 * max_dist)\n",
    "  \n",
    "  # create an empty accumulator array with dimensions (rho, theta)\n",
    "  accumulator = np.zeros((2 * max_dist, len(theta)))\n",
    "  \n",
    "  # find the indices of the edge pixels in the image\n",
    "  y_indices, x_indices = np.nonzero(image)\n",
    "  \n",
    "  # loop through each pixel in the image\n",
    "  for x in range(width):\n",
    "    for y in range(height):\n",
    "      # if the pixel is an edge point\n",
    "      if image[y, x] > 0:\n",
    "        # calculate the rho values for each theta value\n",
    "        rhos = x * np.cos(theta) + y * np.sin(theta)\n",
    "        # round the rho values to the nearest integer\n",
    "        rhos = np.round(rhos).astype(int)\n",
    "        for i in range(len(rhos)):\n",
    "          # increment the corresponding cell in the accumulator array\n",
    "          accumulator[int(rhos[i] + max_dist), int(np.rad2deg(theta[i])) + 90] += 1\n",
    "  \n",
    "  \n",
    "  stretched_houghs = ImageFilters(accumulator).process(contrast_stretch())\n",
    "  segmented_houghs = ImageSegment(stretched_houghs).process(Global_Threshold(100))\n",
    "  \n",
    "  segmented = segmented_houghs * stretched_houghs\n",
    "  \n",
    "  _=ImageUtil(segmented).save_image_to_folder('accumulator', name)\n",
    "  \n",
    "  # create an empty list to store the lines\n",
    "  line_points = []\n",
    "  \n",
    "  # loop through each cell in the accumulator array\n",
    "  for r in range(2 * max_dist):\n",
    "    for t in range(len(theta)):\n",
    "      rh = rho[r]\n",
    "      th = theta[t]\n",
    "      # append the line to the list as a tuple\n",
    "      line_points.append((rh, th))"
   ]
  },
  {
   "cell_type": "code",
   "execution_count": null,
   "metadata": {},
   "outputs": [],
   "source": []
  },
  {
   "cell_type": "code",
   "execution_count": 66,
   "metadata": {},
   "outputs": [],
   "source": [
    "import matplotlib.pyplot as plt\n",
    "\n",
    "def plot_lines_on_image(image, lines):\n",
    "  # image is a numpy array representing an image\n",
    "  # lines is a list of tuples (x1, y1, x2, y2) representing the endpoints of each line\n",
    "  # plots the image and the lines on a figure and shows it\n",
    "  \n",
    "  # create a figure and an axes object\n",
    "  fig, ax = plt.subplots()\n",
    "  \n",
    "  # plot the image on the axes object\n",
    "  ax.imshow(image)\n",
    "  \n",
    "  # loop through each line in the list\n",
    "  for line in lines:\n",
    "    # unpack the endpoints of the line\n",
    "    x1, y1, x2, y2 = line\n",
    "    # plot the line on the axes object\n",
    "    ax.plot([x1, x2], [y1, y2], color=\"red\", linewidth=1)\n",
    "  \n",
    "  # show the figure\n",
    "  plt.show()\n",
    "  \n",
    "  return fig"
   ]
  },
  {
   "cell_type": "code",
   "execution_count": 67,
   "metadata": {},
   "outputs": [],
   "source": [
    "kernel = np.array([[0, 1, 0],\n",
    "                  [1, 1, 1],\n",
    "                  [0, 1, 0]])\n",
    "\n",
    "\n",
    "def pipeline(img_path, folder, name):\n",
    "    image = Image.open(img_path).convert('L')\n",
    "    image = np.array(image)\n",
    "    # inverted = ImageColorSpace(image).process(inversion())\n",
    "    # print(np.max(inverted))\n",
    "    print(image.shape)\n",
    "    dilated = ImageProcessor(image).process(Dilation(), kernel)\n",
    "    closed = ImageProcessor(dilated).process(Erosion(), kernel)\n",
    "    sauvola = ImageSegment(closed).process(Pixel_Filter(3, 50, 'Sauvola'))\n",
    "    # Apply edge detection\n",
    "    # edges = cv2.Canny(closed,50,150,apertureSize = 3)\n",
    "    seggrey = sauvola * closed\n",
    "    seggrey = np.squeeze(seggrey)\n",
    "    \n",
    "    print(seggrey.shape)\n",
    "    # _=ImageUtil(seggrey).save_image_to_folder('folder1', name)\n",
    "    \n",
    "    hough_lines(seggrey, 20, folder, name)\n",
    "    \n",
    "    # stretched_houghs = ImageFilters(houghs).process(contrast_stretch())\n",
    "    # thresholded = ImageSegment(stretched_houghs).process(Global_Threshold(100))\n",
    "    return seggrey"
   ]
  },
  {
   "cell_type": "code",
   "execution_count": 68,
   "metadata": {},
   "outputs": [
    {
     "name": "stdout",
     "output_type": "stream",
     "text": [
      "(100, 100)\n",
      "(100, 100)\n",
      "(100, 100)\n",
      "(100, 100)\n",
      "(100, 100)\n",
      "(100, 100)\n",
      "(100, 100)\n",
      "(100, 100)\n",
      "(100, 100)\n",
      "(100, 100)\n",
      "(100, 100)\n",
      "(100, 100)\n"
     ]
    }
   ],
   "source": [
    "# set the path to your test images folder\n",
    "target_folder = 'test_images'\n",
    "output_folder = 'detection_images'\n",
    "\n",
    "chi_difference = 1\n",
    "\n",
    "# loop through each image file in the folder\n",
    "for file_name in os.listdir(target_folder):\n",
    "    # check if the file is an image file\n",
    "    if file_name.endswith('.jpg') or file_name.endswith('.png'):\n",
    "        \n",
    "        img_path = os.path.join(target_folder, file_name)\n",
    "        file_name = os.path.splitext(file_name)[0]\n",
    "        \n",
    "        segimg = pipeline(img_path, 'Segmented', f'{file_name}.png')\n",
    "                "
   ]
  },
  {
   "cell_type": "code",
   "execution_count": null,
   "metadata": {},
   "outputs": [],
   "source": []
  },
  {
   "cell_type": "code",
   "execution_count": null,
   "metadata": {},
   "outputs": [],
   "source": []
  },
  {
   "cell_type": "code",
   "execution_count": null,
   "metadata": {},
   "outputs": [],
   "source": []
  }
 ],
 "metadata": {
  "kernelspec": {
   "display_name": "venv",
   "language": "python",
   "name": "python3"
  },
  "language_info": {
   "codemirror_mode": {
    "name": "ipython",
    "version": 3
   },
   "file_extension": ".py",
   "mimetype": "text/x-python",
   "name": "python",
   "nbconvert_exporter": "python",
   "pygments_lexer": "ipython3",
   "version": "3.7.6"
  },
  "orig_nbformat": 4
 },
 "nbformat": 4,
 "nbformat_minor": 2
}
