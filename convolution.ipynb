{
 "cells": [
  {
   "cell_type": "code",
   "execution_count": 1,
   "metadata": {},
   "outputs": [],
   "source": [
    "from ImageLab import *\n",
    "import numpy as np\n",
    "from PIL import Image\n",
    "from multiprocessing import Pool, cpu_count"
   ]
  },
  {
   "cell_type": "code",
   "execution_count": 2,
   "metadata": {},
   "outputs": [],
   "source": [
    "orange1 = Image.open('Image/orange1.jpg').convert('RGB')\n",
    "orange1 = np.asarray(orange1)\n",
    "# orange2 = Image.open('Image/orange2.jpg').convert('RGB')\n",
    "# orange1 = np.asarray(orange2)\n",
    "# orange3 = Image.open('Image/orange3.jpg').convert('RGB')\n",
    "# orange1 = np.asarray(orange3)\n",
    "\n",
    "orange1 = ColorSpace(orange1).rgb_to_grayscale()\n",
    "# orange2 = ColorSpace(orange2).rgb_to_grayscale()\n",
    "# orange3 = ColorSpace(orange3).rgb_to_grayscale()\n",
    "\n",
    "# eq_orange1 = Filters(orange1).histogram_equalization()\n",
    "# eq_orange2 = Filters(orange2).histogram_equalization()\n",
    "# eq_orange3 = Filters(orange3).histogram_equalization()\n",
    "\n",
    "# g_orange1 = NoiseOverlay(orange1).add_gaussian_noise(40, 40)\n",
    "# g_orange2 = NoiseOverlay(orange2).add_gaussian_noise(40, 40)\n",
    "# g_orange3 = NoiseOverlay(orange3).add_gaussian_noise(40, 40)\n",
    "\n",
    "# i_orange1 = NoiseOverlay(orange1).add_salt_and_pepper_noise(0.1)\n",
    "# i_orange2 = NoiseOverlay(orange2).add_salt_and_pepper_noise(0.1)\n",
    "# i_orange3 = NoiseOverlay(orange3).add_salt_and_pepper_noise(0.1)\n"
   ]
  },
  {
   "cell_type": "code",
   "execution_count": null,
   "metadata": {},
   "outputs": [],
   "source": []
  },
  {
   "cell_type": "code",
   "execution_count": 3,
   "metadata": {},
   "outputs": [
    {
     "ename": "TypeError",
     "evalue": "kernel_operation() got multiple values for argument 'img'",
     "output_type": "error",
     "traceback": [
      "\u001b[1;31m---------------------------------------------------------------------------\u001b[0m",
      "\u001b[1;31mTypeError\u001b[0m                                 Traceback (most recent call last)",
      "\u001b[1;32m<ipython-input-3-8d9259a77401>\u001b[0m in \u001b[0;36m<module>\u001b[1;34m\u001b[0m\n\u001b[0;32m     11\u001b[0m \u001b[1;33m\u001b[0m\u001b[0m\n\u001b[0;32m     12\u001b[0m orange = Convolution(orange, f'amean_{name}').sliding_kernel(\n\u001b[1;32m---> 13\u001b[1;33m     orange, vertical_sharpening, Convolution.weighted_arithmetic_mean)\n\u001b[0m",
      "\u001b[1;32mg:\\My Drive\\Programs\\Image Processing\\Color Space\\ImageLab\\convolution.py\u001b[0m in \u001b[0;36msliding_kernel\u001b[1;34m(self, kernel_matrix, func, num_processes, *args)\u001b[0m\n\u001b[0;32m     58\u001b[0m \u001b[1;33m\u001b[0m\u001b[0m\n\u001b[0;32m     59\u001b[0m         \u001b[1;31m# Convert the results iterator to an array and reshape it to the desired shape\u001b[0m\u001b[1;33m\u001b[0m\u001b[1;33m\u001b[0m\u001b[1;33m\u001b[0m\u001b[0m\n\u001b[1;32m---> 60\u001b[1;33m         \u001b[0moutput_image\u001b[0m \u001b[1;33m=\u001b[0m \u001b[0mnp\u001b[0m\u001b[1;33m.\u001b[0m\u001b[0marray\u001b[0m\u001b[1;33m(\u001b[0m\u001b[0mlist\u001b[0m\u001b[1;33m(\u001b[0m\u001b[0mresults\u001b[0m\u001b[1;33m)\u001b[0m\u001b[1;33m)\u001b[0m\u001b[1;33m.\u001b[0m\u001b[0mreshape\u001b[0m\u001b[1;33m(\u001b[0m\u001b[0mself\u001b[0m\u001b[1;33m.\u001b[0m\u001b[0mimg\u001b[0m\u001b[1;33m.\u001b[0m\u001b[0mshape\u001b[0m\u001b[1;33m)\u001b[0m\u001b[1;33m\u001b[0m\u001b[1;33m\u001b[0m\u001b[0m\n\u001b[0m\u001b[0;32m     61\u001b[0m         \u001b[0moutput_image\u001b[0m \u001b[1;33m=\u001b[0m \u001b[0mnp\u001b[0m\u001b[1;33m.\u001b[0m\u001b[0mclip\u001b[0m\u001b[1;33m(\u001b[0m\u001b[0moutput_image\u001b[0m\u001b[1;33m,\u001b[0m \u001b[1;36m0\u001b[0m\u001b[1;33m,\u001b[0m \u001b[1;36m255\u001b[0m\u001b[1;33m)\u001b[0m\u001b[1;33m.\u001b[0m\u001b[0mastype\u001b[0m\u001b[1;33m(\u001b[0m\u001b[0mnp\u001b[0m\u001b[1;33m.\u001b[0m\u001b[0muint8\u001b[0m\u001b[1;33m)\u001b[0m\u001b[1;33m\u001b[0m\u001b[1;33m\u001b[0m\u001b[0m\n\u001b[0;32m     62\u001b[0m \u001b[1;33m\u001b[0m\u001b[0m\n",
      "\u001b[1;31mTypeError\u001b[0m: kernel_operation() got multiple values for argument 'img'"
     ]
    }
   ],
   "source": [
    "name = 'orange1'\n",
    "horizontal_sharpening = np.array([[1, 0, -1],\n",
    "                        [1, 0, -1],\n",
    "                        [1, 0, -1]])\n",
    "vertical_sharpening = np.array([[1, 1, 1],\n",
    "                       [0, 0, 0],\n",
    "                       [-1, -1, -1]])\n",
    "ordered_matrix = np.array([[0, 1, 0], [1, 3, 1], [0, 1, 0]])\n",
    "alpha_matrix = np.array([[1, 2, 1], [2, 4, 2], [1, 2, 1]])\n",
    "orange = np.expand_dims(orange1, axis=2)\n",
    "\n",
    "orange = Convolution(orange, f'amean_{name}').sliding_kernel(vertical_sharpening, Convolution.weighted_arithmetic_mean)\n"
   ]
  },
  {
   "cell_type": "code",
   "execution_count": null,
   "metadata": {},
   "outputs": [],
   "source": [
    "name = 'orange1'\n",
    "weight_matrix = np.full((3,3), 1)\n",
    "ordered_matrix = np.array([[0,1,0],[1,3,1],[0,1,0]])\n",
    "alpha_matrix = np.array([[1,2,1],[2,4,2],[1,2,1]])\n",
    "orange = orange1\n",
    "\n",
    "Convolution(img = orange, img_name=f'amean_{name}').list_convolve(weight_matrix, Convolution().weighted_arithmetic_mean)\n",
    "# Convolution(orange, f'gmean_{name}').convolve(\n",
    "#     weight_matrix, Convolution().weighted_geometric_mean)\n",
    "# Convolution(orange, f'max_{name}').convolve(weight_matrix, Convolution().max)\n",
    "# Convolution(orange, f'min_{name}').convolve(\n",
    "#     weight_matrix, Convolution().min)\n",
    "# Convolution(orange, f'midpoint_{name}').convolve(\n",
    "#     weight_matrix, Convolution().midpoint)\n",
    "# Convolution(orange, f'weightedmedian_{name}').convolve(\n",
    "#     ordered_matrix, Convolution().weighted_median)\n",
    "# Convolution(orange, f'alphatrim_{name}').convolve(\n",
    "#     alpha_matrix, Convolution().weighted_alpha_trim_mean)\n",
    "\n",
    "# Filters(orange, f'sharp_{name}').sharpening()\n"
   ]
  },
  {
   "cell_type": "code",
   "execution_count": null,
   "metadata": {},
   "outputs": [],
   "source": [
    "\n",
    "name = 'i_orange1'\n",
    "weight_matrix = np.full((3, 3), 1)\n",
    "ordered_matrix = np.array([[0, 1, 0], [1, 3, 1], [0, 1, 0]])\n",
    "alpha_matrix = np.array([[1, 2, 1], [2, 4, 2], [1, 2, 1]])\n",
    "orange = i_orange1\n",
    "\n",
    "# Convolution(orange, f'amean_{name}').convolve(\n",
    "#     weight_matrix, Conv_Functions().weighted_arithmetic_mean)\n",
    "# Convolution(orange, f'gmean_{name}').convolve(\n",
    "#     weight_matrix, Conv_Functions().weighted_geometric_mean)\n",
    "# Convolution(orange, f'max_{name}').convolve(\n",
    "#     weight_matrix, Conv_Functions().max)\n",
    "# Convolution(orange, f'min_{name}').convolve(\n",
    "#     weight_matrix, Conv_Functions().min)\n",
    "# Convolution(orange, f'midpoint_{name}').convolve(\n",
    "#     weight_matrix, Conv_Functions().midpoint)\n",
    "# Convolution(orange, f'weightedmedian_{name}').convolve(\n",
    "#     ordered_matrix, Conv_Functions().weighted_median)\n",
    "# Convolution(orange, f'alphatrim_{name}').convolve(\n",
    "#     alpha_matrix, Conv_Functions().weighted_alpha_trim_mean)\n",
    "\n",
    "Filters(orange, f'sharp_{name}').sharpening()\n"
   ]
  },
  {
   "cell_type": "code",
   "execution_count": null,
   "metadata": {},
   "outputs": [],
   "source": []
  }
 ],
 "metadata": {
  "kernelspec": {
   "display_name": "base",
   "language": "python",
   "name": "python3"
  },
  "language_info": {
   "codemirror_mode": {
    "name": "ipython",
    "version": 3
   },
   "file_extension": ".py",
   "mimetype": "text/x-python",
   "name": "python",
   "nbconvert_exporter": "python",
   "pygments_lexer": "ipython3",
   "version": "3.7.6"
  },
  "orig_nbformat": 4,
  "vscode": {
   "interpreter": {
    "hash": "36ab7f9348c7d0662a1965af503f4376fbff05df74ea3a3ead8d3abcf8650cb8"
   }
  }
 },
 "nbformat": 4,
 "nbformat_minor": 2
}
