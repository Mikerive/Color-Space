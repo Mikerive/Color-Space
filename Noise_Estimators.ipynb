{
 "cells": [
  {
   "cell_type": "code",
   "execution_count": null,
   "metadata": {},
   "outputs": [],
   "source": [
    "from noisegenerators import NoiseOverlay\n",
    "from noiseestimators import NoiseEstimator\n",
    "from colorspace import ColorSpace\n",
    "from PIL import Image\n",
    "from imageutils import ImageUtils\n",
    "\n",
    "# Cell imaging!"
   ]
  },
  {
   "cell_type": "code",
   "execution_count": null,
   "metadata": {},
   "outputs": [],
   "source": [
    "# Open the image in RGB format\n",
    "orange3 = Image.open('Image/orange3.jpg').convert('RGB')\n",
    "orange1 = Image.open('Image/orange1.jpg').convert('RGB')"
   ]
  },
  {
   "cell_type": "code",
   "execution_count": null,
   "metadata": {},
   "outputs": [],
   "source": [
    "ratio = [0.2989, 0.587, 0.114]\n",
    "gray_orange3 = ColorSpace(orange3).rgb_to_grayscale()\n",
    "gray_orange3_i = NoiseOverlay(gray_orange3).add_salt_and_pepper_noise(0.3, [0])\n",
    "\n",
    "ImageUtils(gray_orange3_i).plot_image_with_histogram(title = 'Impulse 0.3 Gray Orange')\n",
    "\n",
    "gray_orange3_g = NoiseOverlay(gray_orange3).add_gaussian_noise(40, 4000, [0])\n",
    "\n",
    "ImageUtils(gray_orange3_g).plot_image_with_histogram(title = 'Gaussian 40:4000 Gray Orange')"
   ]
  },
  {
   "cell_type": "code",
   "execution_count": null,
   "metadata": {},
   "outputs": [],
   "source": [
    "import numpy as np\n",
    "\n",
    "subimage_i = ImageUtils(gray_orange3_i).create_subimage(100, 250, 400, 600)\n",
    "subimage_g = ImageUtils(gray_orange3_g).create_subimage(100, 250, 400, 600)\n",
    "ImageUtils(subimage_i).plot_image_with_histogram(title='Impulse Noise')\n",
    "ImageUtils(subimage_g).plot_image_with_histogram(title='Gaussian Noise')\n"
   ]
  },
  {
   "cell_type": "code",
   "execution_count": null,
   "metadata": {},
   "outputs": [],
   "source": [
    "density = NoiseEstimator(subimage_i).pepper_noise_estimator()\n",
    "\n",
    "mean, var = NoiseEstimator(subimage_g).gaussian_mean_var_estimator()\n"
   ]
  }
 ],
 "metadata": {
  "kernelspec": {
   "display_name": "base",
   "language": "python",
   "name": "python3"
  },
  "language_info": {
   "codemirror_mode": {
    "name": "ipython",
    "version": 3
   },
   "file_extension": ".py",
   "mimetype": "text/x-python",
   "name": "python",
   "nbconvert_exporter": "python",
   "pygments_lexer": "ipython3",
   "version": "3.7.6"
  },
  "orig_nbformat": 4,
  "vscode": {
   "interpreter": {
    "hash": "36ab7f9348c7d0662a1965af503f4376fbff05df74ea3a3ead8d3abcf8650cb8"
   }
  }
 },
 "nbformat": 4,
 "nbformat_minor": 2
}
